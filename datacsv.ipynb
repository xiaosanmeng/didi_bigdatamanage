{
 "cells": [
  {
   "cell_type": "code",
   "execution_count": 1,
   "metadata": {},
   "outputs": [],
   "source": [
    "#导入PIL，os，glob\n",
    "from PIL import Image\n",
    "import os,glob\n",
    "import pandas as pd\n",
    "import time,datetime"
   ]
  },
  {
   "cell_type": "code",
   "execution_count": 2,
   "metadata": {},
   "outputs": [],
   "source": [
    "'''\n",
    "Data:2017-07-13\n",
    "Auther;JXNU Kerwin\n",
    "Description:使用Pandas拼接多个CSV文件到一个文件（即合并）\n",
    "'''\n",
    "import pandas as pd\n",
    "import os\n",
    "Folder_Path = r'C:\\Users\\ASUS\\Desktop\\bigdatamanage\\20201114'          #要拼接的文件夹及其完整路径，注意不要包含中文\n",
    "SaveFile_Path =  r'C:\\Users\\ASUS\\Desktop\\bigdatamanage\\20201114'       #拼接后要保存的文件路径\n",
    "SaveFile_Name = r'data.csv'              #合并后要保存的文件名\n",
    " \n",
    "#修改当前工作目录\n",
    "os.chdir(Folder_Path)\n",
    "#将该文件夹下的所有文件名存入一个列表\n",
    "file_list = os.listdir()\n",
    " \n",
    "#读取第一个CSV文件并包含表头\n",
    "df = pd.read_csv(Folder_Path +'\\\\'+ file_list[0])   #编码默认UTF-8，若乱码自行更改\n",
    " \n",
    "#将读取的第一个CSV文件写入合并后的文件保存\n",
    "df.to_csv(SaveFile_Path+'\\\\'+ SaveFile_Name,encoding=\"utf_8_sig\",index=False)\n",
    " \n",
    "#循环遍历列表中各个CSV文件名，并追加到合并后的文件\n",
    "for i in range(1,len(file_list)):\n",
    "    df = pd.read_csv(Folder_Path + '\\\\'+ file_list[i])\n",
    "    df.to_csv(SaveFile_Path+'\\\\'+ SaveFile_Name,encoding=\"utf_8_sig\",index=False, header=False, mode='a+')"
   ]
  }
 ],
 "metadata": {
  "kernelspec": {
   "display_name": "Python 3",
   "language": "python",
   "name": "python3"
  },
  "language_info": {
   "codemirror_mode": {
    "name": "ipython",
    "version": 3
   },
   "file_extension": ".py",
   "mimetype": "text/x-python",
   "name": "python",
   "nbconvert_exporter": "python",
   "pygments_lexer": "ipython3",
   "version": "3.6.5"
  }
 },
 "nbformat": 4,
 "nbformat_minor": 2
}
